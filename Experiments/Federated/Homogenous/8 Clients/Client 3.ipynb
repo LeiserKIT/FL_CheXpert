{
 "cells": [
  {
   "cell_type": "markdown",
   "id": "10d82a39",
   "metadata": {},
   "source": [
    "<b>IMPORT</b> </br>\n",
    "Importing the required libraries, including tensorflow, keras, pandas, numpy and flower"
   ]
  },
  {
   "cell_type": "code",
   "execution_count": 1,
   "id": "9badf6b7",
   "metadata": {
    "scrolled": true
   },
   "outputs": [],
   "source": [
    "import tensorflow as tf\n",
    "import pandas as pd\n",
    "import numpy as np\n",
    "import os\n",
    "from tensorflow.keras import Model\n",
    "from tensorflow.keras.metrics import BinaryAccuracy, AUC, Precision, Recall\n",
    "from tensorflow.keras.applications import DenseNet121, VGG16, ResNet50\n",
    "from tensorflow.keras.initializers import GlorotUniform\n",
    "from tensorflow.keras.activations import sigmoid, softmax\n",
    "from keras.callbacks import ModelCheckpoint, EarlyStopping, CSVLogger\n",
    "from tensorflow.keras.optimizers import Adam\n",
    "from tensorflow.keras import preprocessing\n",
    "from tensorflow.keras import backend\n",
    "from sklearn.metrics import roc_curve, auc\n",
    "import matplotlib.pyplot as plt\n",
    "import random\n",
    "import math\n",
    "import tensorflow_addons as tfa\n",
    "import flwr as fl"
   ]
  },
  {
   "cell_type": "markdown",
   "id": "961c92c2-18bf-47f2-9705-f440fb102082",
   "metadata": {},
   "source": [
    "<b>ENVIRONMENT SETTINGS</b></br>\n",
    "Disabling tensorflow warnings and allowing GPU growth"
   ]
  },
  {
   "cell_type": "code",
   "execution_count": 2,
   "id": "84f195af-b461-4c99-9099-9cbe5a463d3c",
   "metadata": {},
   "outputs": [
    {
     "name": "stdout",
     "output_type": "stream",
     "text": [
      "WARNING:tensorflow:From /scratch/slurm_tmpdir/job_20685433/ipykernel_3428586/894456612.py:9: The name tf.keras.backend.set_session is deprecated. Please use tf.compat.v1.keras.backend.set_session instead.\n",
      "\n"
     ]
    }
   ],
   "source": [
    "os.environ[\"TF_CPP_MIN_LOG_LEVEL\"] = \"3\" #disabling tensorflow warnings\n",
    "os.environ[\"TF_FORCE_GPU_ALLOW_GROWTH\"] = \"true\" #allowing GPU growth\n",
    "\n",
    "gpu_options = tf.compat.v1.GPUOptions(per_process_gpu_memory_fraction=0.05) #allocate memory to allow all clients to train at the same time\n",
    "\n",
    "core_config = tf.compat.v1.ConfigProto(gpu_options = gpu_options)\n",
    "core_config.gpu_options.allow_growth = True\n",
    "session = tf.compat.v1.Session(config=core_config)\n",
    "tf.compat.v1.keras.backend.set_session(session)"
   ]
  },
  {
   "cell_type": "markdown",
   "id": "45713208-58a1-4b68-8d86-cc2cd7b93cb3",
   "metadata": {},
   "source": [
    "<b>CLIENT SETTINGS</b></br>\n",
    "Defining the number of total clients and this clients ID"
   ]
  },
  {
   "cell_type": "code",
   "execution_count": 3,
   "id": "75e8cd2e-0016-4d08-9be5-f2bb3f630d2f",
   "metadata": {},
   "outputs": [],
   "source": [
    "clients = 8\n",
    "client_num = 3"
   ]
  },
  {
   "cell_type": "markdown",
   "id": "95b5c60b",
   "metadata": {},
   "source": [
    "<b>STANDARD VALUES</b></br>\n",
    "Setting the standard values for model training such as image size, batch size, epochs, validation split, etc. "
   ]
  },
  {
   "cell_type": "code",
   "execution_count": 4,
   "id": "b83fa25a",
   "metadata": {},
   "outputs": [],
   "source": [
    "IMAGE_SIZE = 320 \n",
    "#images are entered into the neural network with a resolution of IMAGE_SIZE x IMAGE_SIZE\n",
    "\n",
    "CHANNELS = 3\n",
    "#three channels for the pixel representation of a color image due to the use of pretrained weights (imagenet)\n",
    "\n",
    "EPOCHS = 1\n",
    "#one local epoch due to three global rounds of FedAvg\n",
    "\n",
    "BATCH_SIZE = 16\n",
    "LEARNING_RATE = 0.0001\n",
    "#batch size and learning rate are similar to the official CheXpert paper\n",
    "\n",
    "IMAGES = 191027 #number of images from the dataset used for training & validation (maximum: 191027)\n",
    "\n",
    "TRAIN_VALIDATION_SPLIT = 0.8\n",
    "#80 % of the selected images are used for training, 20% for validation\n",
    "\n",
    "IMAGE_AUGMENTATION = True\n",
    "AUGMENTATION_SPLIT = 0.5\n",
    "#image agmentation is used with 50% of training images being augmented\n",
    "\n",
    "ACTIVATION =  sigmoid\n",
    "#sigmoid activatino function is used in the final dense layer for classification\n",
    "\n",
    "INITIALIZER = GlorotUniform(seed = 42)\n",
    "#weights are initialised in the first epoch using a uniform distribution\n",
    "\n",
    "FEATURES = \"Path\"\n",
    "#the feature column \"Path\" includes the image paths to be classified.\n",
    "\n",
    "LABELS = [\"Atelectasis\", \"Cardiomegaly\", \"Consolidation\", \"Edema\", \"Pleural Effusion\"]\n",
    "#the same five labels as in the original CheXpert paper are considered: Atelectasis, Cardiomegaly, Consolidation, Edema and Pleural Effusion\n",
    "\n",
    "U_ONES_LABELS = [\"Atelectasis\"]\n",
    "U_ZEROS_LABELS = [\"Cardiomegaly\", \"Consolidation\", \"Edema\", \"Pleural Effusion\"]\n",
    "#handling of the uncertainty labels: uncertain labels are mapped to one for the finding atelectasis and to zero for the other four diagnoses\n",
    "\n",
    "METRICS = [BinaryAccuracy(name = \"accuracy\"), AUC(name = \"auc\", multi_label = True), Precision(name = \"precision\"), Recall(name = \"recall\")]\n",
    "#used metrics for performance evaluation and comparison: accuracy, AUROC, precision and recall (as F1-score)"
   ]
  },
  {
   "cell_type": "markdown",
   "id": "1ef19565",
   "metadata": {},
   "source": [
    "<b>FUNCTIONS</b></br>\n",
    "Defining basic functions for preprocessing, reading in the images and plotting results, etc."
   ]
  },
  {
   "cell_type": "code",
   "execution_count": 5,
   "id": "a08e5d17",
   "metadata": {},
   "outputs": [],
   "source": [
    "#reads in the file names of the images and converts them into same-size RGB-images with padding, thereby keeping the aspect ratio\n",
    "def parse_image(features, label):\n",
    "    \n",
    "    image_string = tf.io.read_file(features)\n",
    "    image = tf.image.decode_jpeg(image_string, channels = CHANNELS)\n",
    "    image = tf.image.resize_with_pad(image, IMAGE_SIZE, IMAGE_SIZE) #padding keeps original aspect ratio of the image\n",
    "    image = tf.keras.applications.densenet.preprocess_input(image) #special preprocessing operation for the densenet structure\n",
    "    \n",
    "    return image, label\n",
    "\n",
    "#creates a tensorflow dataset out of a pandas dataframe with the radiographs and selected labels\n",
    "def create_dataset(dataframe):\n",
    "    dataset = tf.data.Dataset.from_tensor_slices((dataframe[FEATURES].values, dataframe[LABELS].values))\n",
    "    dataset = dataset.map(parse_image, num_parallel_calls = tf.data.experimental.AUTOTUNE)\n",
    "    \n",
    "    return dataset\n",
    "\n",
    "#preprocessing of the created dataset and image augmentation for the training data\n",
    "def preprocess_dataset(dataset, is_training):\n",
    "    dataset = dataset.cache().shuffle(int(len(dataset)/100), reshuffle_each_iteration = False)\n",
    "    \n",
    "    #augmentation for the training data, if IMAGE_AUGMENTATION is set to True\n",
    "    if is_training == True and IMAGE_AUGMENTATION == True:\n",
    "        print(\"Images in training dataset before augmentation: \" + str(len(dataset)))\n",
    "        dataset_augmented = dataset.take(int(AUGMENTATION_SPLIT*IMAGES*TRAIN_VALIDATION_SPLIT)).map(augment, num_parallel_calls = tf.data.experimental.AUTOTUNE)\n",
    "        dataset = dataset.concatenate(dataset_augmented)\n",
    "        print(\"Images in training dataset after augmentation: \" + str(len(dataset)))\n",
    "\n",
    "    dataset = dataset.batch(BATCH_SIZE).prefetch(buffer_size = tf.data.AUTOTUNE) #tensorflow input pipeline: batching the dataset and prefetching for increased efficiency\n",
    "    \n",
    "    return dataset\n",
    "\n",
    "#image augmentation\n",
    "def augment(image, label):\n",
    "    image = tfa.image.rotate(image, random.uniform(-10, 10)*math.pi/180) #rotation of the image by up to 10 degrees in both directions\n",
    "    image = tf.image.central_crop(image, central_fraction = random.uniform(0.8, 1.0)) #randomly zooming into the image by up to 20 percent\n",
    "    image = tf.image.random_brightness(image, max_delta = 0.1) #manipulating the brightness by up to 10 percent\n",
    "    image = tf.image.random_contrast(image, lower = 0.9, upper = 1.1) #manipulating the contrast by up to 10 percent\n",
    "    image = tf.image.resize(image, [IMAGE_SIZE, IMAGE_SIZE]) #resizing the image due to previous central crop function\n",
    "    \n",
    "    return image, label\n",
    "\n",
    "#plotting the loss and metric curves over the epochs\n",
    "def plot_training(history):\n",
    "    history_dict = history.history\n",
    "    history_dict = list(history_dict)[:int(len(history_dict)/2)]\n",
    "    \n",
    "    #creating a pyplot with two columns and a fixed size\n",
    "    num_rows = math.ceil(len(history_dict)/2)\n",
    "    num_cols = 2\n",
    "    pos = 1\n",
    "    plt.figure(figsize = (13, 5*num_rows))\n",
    "    \n",
    "    #plotting training and validation curves for each metric and loss in one individual diagram\n",
    "    for h in history_dict:\n",
    "        plt.subplot(num_rows, num_cols, pos)\n",
    "        plt.plot(history.history[h])\n",
    "        plt.plot(history.history[\"val_\" + h])\n",
    "        plt.ylim([0.3, 0.9]) #fixing the range of the y-axis\n",
    "        plt.title(\"model \" + h, fontweight = \"bold\", fontsize = 13)\n",
    "        plt.ylabel(h)\n",
    "        plt.xlabel(\"epochs\")\n",
    "        plt.legend([\"train\", \"valid\"], loc = \"best\") \n",
    "        pos += 1\n",
    "        \n",
    "#plotting a roc curve of the model for a selected dataset (training, validation or test)\n",
    "def plot_roc_curve(data):\n",
    "    if data == \"training\":\n",
    "        dataset = train_ds\n",
    "        pred = pred_train\n",
    "        training_str = \"training\"\n",
    "        pos = 1\n",
    "    elif data == \"validation\":\n",
    "        dataset = valid_ds\n",
    "        pred = pred_valid\n",
    "        training_str = \"validation\"\n",
    "        pos = 2\n",
    "    elif data == \"test\":\n",
    "        dataset = test_ds\n",
    "        pred = pred_test\n",
    "        training_str = \"test\"\n",
    "        pos = 3\n",
    "    \n",
    "    #getting the labels of the dataset\n",
    "    b = np.concatenate([b for a, b in dataset], axis = 0)\n",
    "    \n",
    "    #initialising the value of the AUC sum\n",
    "    auc_sum = 0.0\n",
    "    \n",
    "    #calculating the true- and false-positive rate of the model predictions for every diagnosis and thereby the AUROC metric\n",
    "    for l in range(len(LABELS)):\n",
    "        fpr, tpr, thresholds = roc_curve(b[:,l], pred[:,l])\n",
    "        auc_metric = auc(fpr, tpr)\n",
    "        plt.plot(fpr, tpr, label = LABELS[l] + \" (AUC: \" + str(round(auc_metric, 4)) + \")\") #printing the indvidual metric values in the diagram\n",
    "        auc_sum += auc_metric\n",
    "        \n",
    "    #creating a pyplot with a black bisector line for AUC = 0.5\n",
    "    plt.plot([0, 1], [0, 1], 'k--')\n",
    "    \n",
    "    #defining title and axis descriptions\n",
    "    plt.title(\"model ROC curve (\" + training_str + \")\", fontweight = \"bold\", fontsize = 13)\n",
    "    plt.ylabel(\"True positive rate\")\n",
    "    plt.xlabel(\"False positive rate\")\n",
    "    plt.legend(loc = \"best\")\n",
    "    \n",
    "    #printing the average AUC value across all diagnoses\n",
    "    auc_average = auc_sum/len(LABELS)\n",
    "    print(\"Average AUC \" + \"(\" + training_str + \"): \" + str(auc_average))\n",
    "    \n",
    "#plotting roc-curves for training, validation and test dataset\n",
    "def plot_roc_curves():\n",
    "    \n",
    "    #creating a pyplot with two rows and columns\n",
    "    plt.figure(figsize = (13, 10))\n",
    "    num_rows = 2\n",
    "    num_cols = 2\n",
    "    \n",
    "    plt.subplot(num_rows, num_cols, 1)\n",
    "    plot_roc_curve(\"training\") #plot training roc curve\n",
    "    \n",
    "    plt.subplot(num_rows, num_cols, 2)\n",
    "    plot_roc_curve(\"validation\") #plot validation roc curve\n",
    "    \n",
    "    plt.subplot(num_rows, num_cols, 3)\n",
    "    plot_roc_curve(\"test\") #plot test roc curve\n",
    "\n",
    "#plotting a number of examplary images with their respective labels and neuronal network's predictions\n",
    "def show_examples(data, number):\n",
    "    number = min(number, 10)\n",
    "    \n",
    "    #selecting the right dataset\n",
    "    if data == \"training\":\n",
    "        dataset = train_ds\n",
    "        pred = pred_train\n",
    "    elif data == \"validation\":\n",
    "        dataset = valid_ds\n",
    "        pred = pred_valid\n",
    "    elif data == \"test\":\n",
    "        dataset = test_ds\n",
    "        pred = pred_test\n",
    "    \n",
    "    num_rows = 1\n",
    "    num_cols = 1\n",
    "    pos = 1\n",
    "    label_pred_str = \"\"\n",
    "\n",
    "    for num in range(number): #loop for each radiograph\n",
    "        \n",
    "        index = random.randint(0, len(dataset)) #randomly picking rdiograph\n",
    "        a, b = list(dataset.unbatch())[index] #getting the radiograph with its labels\n",
    "        \n",
    "        print(\"\\033[1m\" + \"Image \" + str(num + 1) + \":\\t\" + \"\\033[0m\") #printing image umber\n",
    "        \n",
    "        for l in range(len(LABELS)): #printing the radiograph with its respective labels and predictions\n",
    "            \n",
    "            if(b[l] == 1.0):\n",
    "            \n",
    "                label_pred_str += str(LABELS[l] + \": \")\n",
    "                label_pred_str += str(round(pred[index][l]*100, 2)) + \" \"\n",
    "            \n",
    "            print(LABELS[l])\n",
    "            print(str(b.numpy()[l]) + \"\\t(Prediction: \" + str(round(pred[index][l]*100, 2)) + \"%)\")\n",
    "        \n",
    "        fig = plt.figure(figsize = (13, 7)) #creating pyplot\n",
    "        \n",
    "        plt.subplot(num_rows, num_cols, pos)\n",
    "        plt.imshow((a.numpy()*255).astype(\"uint8\")) #printing radiograph\n",
    "        plt.grid(None)\n",
    "        plt.title(\"Image \" + str(num + 1), fontweight = \"bold\", fontsize = 13)\n",
    "        plt.xlabel(label_pred_str) #image subscription\n",
    "        \n",
    "        plt.show()\n",
    "        label_pred_str = \"\""
   ]
  },
  {
   "cell_type": "markdown",
   "id": "53c3da3f",
   "metadata": {},
   "source": [
    "<b>TRAIN & VALIDATION DATA FRAME</b></br>\n",
    "Reading in the CheXpert dataset. It can be downloaded at: https://stanfordmlgroup.github.io/competitions/chexpert/\n",
    "Subsequently filtering by frontal images and grouping by patient ID."
   ]
  },
  {
   "cell_type": "code",
   "execution_count": 6,
   "id": "006111a8",
   "metadata": {},
   "outputs": [
    {
     "name": "stderr",
     "output_type": "stream",
     "text": [
      "/scratch/slurm_tmpdir/job_20685433/ipykernel_3428586/1767291884.py:6: SettingWithCopyWarning: \n",
      "A value is trying to be set on a copy of a slice from a DataFrame\n",
      "\n",
      "See the caveats in the documentation: https://pandas.pydata.org/pandas-docs/stable/user_guide/indexing.html#returning-a-view-versus-a-copy\n",
      "  dataframe[l][dataframe[l] < 0] = 1\n",
      "/scratch/slurm_tmpdir/job_20685433/ipykernel_3428586/1767291884.py:9: SettingWithCopyWarning: \n",
      "A value is trying to be set on a copy of a slice from a DataFrame\n",
      "\n",
      "See the caveats in the documentation: https://pandas.pydata.org/pandas-docs/stable/user_guide/indexing.html#returning-a-view-versus-a-copy\n",
      "  dataframe[l][dataframe[l] < 0] = 0\n"
     ]
    },
    {
     "data": {
      "text/html": [
       "<div>\n",
       "<style scoped>\n",
       "    .dataframe tbody tr th:only-of-type {\n",
       "        vertical-align: middle;\n",
       "    }\n",
       "\n",
       "    .dataframe tbody tr th {\n",
       "        vertical-align: top;\n",
       "    }\n",
       "\n",
       "    .dataframe thead th {\n",
       "        text-align: right;\n",
       "    }\n",
       "</style>\n",
       "<table border=\"1\" class=\"dataframe\">\n",
       "  <thead>\n",
       "    <tr style=\"text-align: right;\">\n",
       "      <th></th>\n",
       "      <th>Path</th>\n",
       "      <th>Sex</th>\n",
       "      <th>Age</th>\n",
       "      <th>Frontal/Lateral</th>\n",
       "      <th>AP/PA</th>\n",
       "      <th>No Finding</th>\n",
       "      <th>Enlarged Cardiomediastinum</th>\n",
       "      <th>Cardiomegaly</th>\n",
       "      <th>Lung Opacity</th>\n",
       "      <th>Lung Lesion</th>\n",
       "      <th>Edema</th>\n",
       "      <th>Consolidation</th>\n",
       "      <th>Pneumonia</th>\n",
       "      <th>Atelectasis</th>\n",
       "      <th>Pneumothorax</th>\n",
       "      <th>Pleural Effusion</th>\n",
       "      <th>Pleural Other</th>\n",
       "      <th>Fracture</th>\n",
       "      <th>Support Devices</th>\n",
       "      <th>Study</th>\n",
       "    </tr>\n",
       "    <tr>\n",
       "      <th>Patient</th>\n",
       "      <th></th>\n",
       "      <th></th>\n",
       "      <th></th>\n",
       "      <th></th>\n",
       "      <th></th>\n",
       "      <th></th>\n",
       "      <th></th>\n",
       "      <th></th>\n",
       "      <th></th>\n",
       "      <th></th>\n",
       "      <th></th>\n",
       "      <th></th>\n",
       "      <th></th>\n",
       "      <th></th>\n",
       "      <th></th>\n",
       "      <th></th>\n",
       "      <th></th>\n",
       "      <th></th>\n",
       "      <th></th>\n",
       "      <th></th>\n",
       "    </tr>\n",
       "  </thead>\n",
       "  <tbody>\n",
       "    <tr>\n",
       "      <th>21511</th>\n",
       "      <td>Chexpert/train/patient21511/study1/view1_front...</td>\n",
       "      <td>Male</td>\n",
       "      <td>45</td>\n",
       "      <td>Frontal</td>\n",
       "      <td>AP</td>\n",
       "      <td>NaN</td>\n",
       "      <td>NaN</td>\n",
       "      <td>0.0</td>\n",
       "      <td>NaN</td>\n",
       "      <td>NaN</td>\n",
       "      <td>1.0</td>\n",
       "      <td>0.0</td>\n",
       "      <td>NaN</td>\n",
       "      <td>0.0</td>\n",
       "      <td>NaN</td>\n",
       "      <td>0.0</td>\n",
       "      <td>NaN</td>\n",
       "      <td>NaN</td>\n",
       "      <td>NaN</td>\n",
       "      <td>1</td>\n",
       "    </tr>\n",
       "    <tr>\n",
       "      <th>1696</th>\n",
       "      <td>Chexpert/train/patient01696/study12/view1_fron...</td>\n",
       "      <td>Male</td>\n",
       "      <td>48</td>\n",
       "      <td>Frontal</td>\n",
       "      <td>AP</td>\n",
       "      <td>NaN</td>\n",
       "      <td>NaN</td>\n",
       "      <td>0.0</td>\n",
       "      <td>NaN</td>\n",
       "      <td>NaN</td>\n",
       "      <td>0.0</td>\n",
       "      <td>1.0</td>\n",
       "      <td>-1.0</td>\n",
       "      <td>0.0</td>\n",
       "      <td>NaN</td>\n",
       "      <td>0.0</td>\n",
       "      <td>NaN</td>\n",
       "      <td>1.0</td>\n",
       "      <td>NaN</td>\n",
       "      <td>12</td>\n",
       "    </tr>\n",
       "    <tr>\n",
       "      <th>1696</th>\n",
       "      <td>Chexpert/train/patient01696/study2/view1_front...</td>\n",
       "      <td>Male</td>\n",
       "      <td>45</td>\n",
       "      <td>Frontal</td>\n",
       "      <td>PA</td>\n",
       "      <td>NaN</td>\n",
       "      <td>1.0</td>\n",
       "      <td>0.0</td>\n",
       "      <td>NaN</td>\n",
       "      <td>NaN</td>\n",
       "      <td>0.0</td>\n",
       "      <td>0.0</td>\n",
       "      <td>NaN</td>\n",
       "      <td>0.0</td>\n",
       "      <td>1.0</td>\n",
       "      <td>0.0</td>\n",
       "      <td>NaN</td>\n",
       "      <td>NaN</td>\n",
       "      <td>NaN</td>\n",
       "      <td>2</td>\n",
       "    </tr>\n",
       "    <tr>\n",
       "      <th>1696</th>\n",
       "      <td>Chexpert/train/patient01696/study3/view1_front...</td>\n",
       "      <td>Male</td>\n",
       "      <td>47</td>\n",
       "      <td>Frontal</td>\n",
       "      <td>AP</td>\n",
       "      <td>NaN</td>\n",
       "      <td>NaN</td>\n",
       "      <td>0.0</td>\n",
       "      <td>1.0</td>\n",
       "      <td>NaN</td>\n",
       "      <td>0.0</td>\n",
       "      <td>0.0</td>\n",
       "      <td>-1.0</td>\n",
       "      <td>1.0</td>\n",
       "      <td>0.0</td>\n",
       "      <td>0.0</td>\n",
       "      <td>NaN</td>\n",
       "      <td>NaN</td>\n",
       "      <td>NaN</td>\n",
       "      <td>3</td>\n",
       "    </tr>\n",
       "    <tr>\n",
       "      <th>1696</th>\n",
       "      <td>Chexpert/train/patient01696/study4/view1_front...</td>\n",
       "      <td>Male</td>\n",
       "      <td>47</td>\n",
       "      <td>Frontal</td>\n",
       "      <td>AP</td>\n",
       "      <td>1.0</td>\n",
       "      <td>NaN</td>\n",
       "      <td>0.0</td>\n",
       "      <td>NaN</td>\n",
       "      <td>NaN</td>\n",
       "      <td>0.0</td>\n",
       "      <td>0.0</td>\n",
       "      <td>NaN</td>\n",
       "      <td>0.0</td>\n",
       "      <td>NaN</td>\n",
       "      <td>0.0</td>\n",
       "      <td>NaN</td>\n",
       "      <td>NaN</td>\n",
       "      <td>NaN</td>\n",
       "      <td>4</td>\n",
       "    </tr>\n",
       "  </tbody>\n",
       "</table>\n",
       "</div>"
      ],
      "text/plain": [
       "                                                      Path   Sex  Age  \\\n",
       "Patient                                                                 \n",
       "21511    Chexpert/train/patient21511/study1/view1_front...  Male   45   \n",
       "1696     Chexpert/train/patient01696/study12/view1_fron...  Male   48   \n",
       "1696     Chexpert/train/patient01696/study2/view1_front...  Male   45   \n",
       "1696     Chexpert/train/patient01696/study3/view1_front...  Male   47   \n",
       "1696     Chexpert/train/patient01696/study4/view1_front...  Male   47   \n",
       "\n",
       "        Frontal/Lateral AP/PA  No Finding  Enlarged Cardiomediastinum  \\\n",
       "Patient                                                                 \n",
       "21511           Frontal    AP         NaN                         NaN   \n",
       "1696            Frontal    AP         NaN                         NaN   \n",
       "1696            Frontal    PA         NaN                         1.0   \n",
       "1696            Frontal    AP         NaN                         NaN   \n",
       "1696            Frontal    AP         1.0                         NaN   \n",
       "\n",
       "         Cardiomegaly  Lung Opacity  Lung Lesion  Edema  Consolidation  \\\n",
       "Patient                                                                  \n",
       "21511             0.0           NaN          NaN    1.0            0.0   \n",
       "1696              0.0           NaN          NaN    0.0            1.0   \n",
       "1696              0.0           NaN          NaN    0.0            0.0   \n",
       "1696              0.0           1.0          NaN    0.0            0.0   \n",
       "1696              0.0           NaN          NaN    0.0            0.0   \n",
       "\n",
       "         Pneumonia  Atelectasis  Pneumothorax  Pleural Effusion  \\\n",
       "Patient                                                           \n",
       "21511          NaN          0.0           NaN               0.0   \n",
       "1696          -1.0          0.0           NaN               0.0   \n",
       "1696           NaN          0.0           1.0               0.0   \n",
       "1696          -1.0          1.0           0.0               0.0   \n",
       "1696           NaN          0.0           NaN               0.0   \n",
       "\n",
       "         Pleural Other  Fracture  Support Devices Study  \n",
       "Patient                                                  \n",
       "21511              NaN       NaN              NaN     1  \n",
       "1696               NaN       1.0              NaN    12  \n",
       "1696               NaN       NaN              NaN     2  \n",
       "1696               NaN       NaN              NaN     3  \n",
       "1696               NaN       NaN              NaN     4  "
      ]
     },
     "execution_count": 6,
     "metadata": {},
     "output_type": "execute_result"
    }
   ],
   "source": [
    "dataframe = pd.read_csv(\"Chexpert/train.csv\") #reading in the dataframe via the csv-file\n",
    "\n",
    "#setting N/A labels to zero and uncertainty labels specific to u_ones and u_zeros in the CheXpert paper\n",
    "for l in LABELS:\n",
    "    if (l in U_ONES_LABELS):\n",
    "        dataframe[l][dataframe[l] < 0] = 1\n",
    "        dataframe[l] = dataframe[l].fillna(0)\n",
    "    elif (l in U_ZEROS_LABELS):\n",
    "        dataframe[l][dataframe[l] < 0] = 0\n",
    "        dataframe[l] = dataframe[l].fillna(0)\n",
    "\n",
    "#filtering out lateral radiographs\n",
    "dataframe = dataframe[dataframe[\"Frontal/Lateral\"] != \"Lateral\"][:min(191027, IMAGES)]\n",
    "\n",
    "#creating a patient and study column\n",
    "dataframe[\"Patient\"] = dataframe.Path.str.split('/',3,True)[2].str.split(\"patient\", 2, True)[1] \n",
    "dataframe[\"Patient\"] = [i.lstrip(\"0\") for i in dataframe[\"Patient\"]]\n",
    "\n",
    "dataframe[\"Study\"] = dataframe.Path.str.split('/',4,True)[3].str.split(\"study\", 2, True)[1]\n",
    "\n",
    "#grouping and shuffling the dataframe by patient \n",
    "patients = dataframe[\"Patient\"].unique()\n",
    "random.shuffle(patients)\n",
    "dataframe = dataframe.set_index(\"Patient\").loc[patients]\n",
    "    \n",
    "dataframe.head()"
   ]
  },
  {
   "cell_type": "code",
   "execution_count": 7,
   "id": "e5648893",
   "metadata": {},
   "outputs": [
    {
     "data": {
      "text/plain": [
       "(191027, 20)"
      ]
     },
     "execution_count": 7,
     "metadata": {},
     "output_type": "execute_result"
    }
   ],
   "source": [
    "dataframe.shape #dimensions of the dataframe:"
   ]
  },
  {
   "cell_type": "markdown",
   "id": "ef64753d-7865-493e-bc11-61b251155438",
   "metadata": {},
   "source": [
    "<b>SELECTING CLIENT DATA</b></br>\n",
    "Sorting and selecting the data depending on the federated learning scenario"
   ]
  },
  {
   "cell_type": "code",
   "execution_count": 8,
   "id": "1109f220-f4d6-43bb-ad3e-dbf99f22af41",
   "metadata": {},
   "outputs": [
    {
     "name": "stdout",
     "output_type": "stream",
     "text": [
      "Dataframe taken from 47756 to 71635\n"
     ]
    },
    {
     "data": {
      "text/plain": [
       "(23879, 20)"
      ]
     },
     "execution_count": 8,
     "metadata": {},
     "output_type": "execute_result"
    }
   ],
   "source": [
    "#Selecting the client's share of datapoints based on the total amount of data\n",
    "lower_limit = int((len(dataframe)/clients)*(client_num-1))\n",
    "upper_limit = int((len(dataframe)/clients)*client_num)\n",
    "\n",
    "#printing the selected range of datapoints from the dataset\n",
    "print(\"Dataframe taken from \"+str(lower_limit)+\" to \"+str(upper_limit))\n",
    "\n",
    "dataframe = dataframe[lower_limit:upper_limit]\n",
    "dataframe.shape"
   ]
  },
  {
   "cell_type": "markdown",
   "id": "af07d8cb",
   "metadata": {},
   "source": [
    "<b>TEST DATA FRAME</b></br>\n",
    "Reading in the test dataframe of the CheXpert dataset."
   ]
  },
  {
   "cell_type": "code",
   "execution_count": 9,
   "id": "31672603",
   "metadata": {},
   "outputs": [
    {
     "data": {
      "text/html": [
       "<div>\n",
       "<style scoped>\n",
       "    .dataframe tbody tr th:only-of-type {\n",
       "        vertical-align: middle;\n",
       "    }\n",
       "\n",
       "    .dataframe tbody tr th {\n",
       "        vertical-align: top;\n",
       "    }\n",
       "\n",
       "    .dataframe thead th {\n",
       "        text-align: right;\n",
       "    }\n",
       "</style>\n",
       "<table border=\"1\" class=\"dataframe\">\n",
       "  <thead>\n",
       "    <tr style=\"text-align: right;\">\n",
       "      <th></th>\n",
       "      <th>Path</th>\n",
       "      <th>Sex</th>\n",
       "      <th>Age</th>\n",
       "      <th>Frontal/Lateral</th>\n",
       "      <th>AP/PA</th>\n",
       "      <th>No Finding</th>\n",
       "      <th>Enlarged Cardiomediastinum</th>\n",
       "      <th>Cardiomegaly</th>\n",
       "      <th>Lung Opacity</th>\n",
       "      <th>Lung Lesion</th>\n",
       "      <th>Edema</th>\n",
       "      <th>Consolidation</th>\n",
       "      <th>Pneumonia</th>\n",
       "      <th>Atelectasis</th>\n",
       "      <th>Pneumothorax</th>\n",
       "      <th>Pleural Effusion</th>\n",
       "      <th>Pleural Other</th>\n",
       "      <th>Fracture</th>\n",
       "      <th>Support Devices</th>\n",
       "    </tr>\n",
       "  </thead>\n",
       "  <tbody>\n",
       "    <tr>\n",
       "      <th>0</th>\n",
       "      <td>Chexpert/valid/patient64541/study1/view1_front...</td>\n",
       "      <td>Male</td>\n",
       "      <td>73</td>\n",
       "      <td>Frontal</td>\n",
       "      <td>AP</td>\n",
       "      <td>0.0</td>\n",
       "      <td>1.0</td>\n",
       "      <td>1.0</td>\n",
       "      <td>1.0</td>\n",
       "      <td>0.0</td>\n",
       "      <td>0.0</td>\n",
       "      <td>0.0</td>\n",
       "      <td>0.0</td>\n",
       "      <td>0.0</td>\n",
       "      <td>0.0</td>\n",
       "      <td>0.0</td>\n",
       "      <td>0.0</td>\n",
       "      <td>0.0</td>\n",
       "      <td>0.0</td>\n",
       "    </tr>\n",
       "    <tr>\n",
       "      <th>1</th>\n",
       "      <td>Chexpert/valid/patient64542/study1/view1_front...</td>\n",
       "      <td>Male</td>\n",
       "      <td>70</td>\n",
       "      <td>Frontal</td>\n",
       "      <td>PA</td>\n",
       "      <td>0.0</td>\n",
       "      <td>0.0</td>\n",
       "      <td>0.0</td>\n",
       "      <td>0.0</td>\n",
       "      <td>0.0</td>\n",
       "      <td>0.0</td>\n",
       "      <td>0.0</td>\n",
       "      <td>0.0</td>\n",
       "      <td>0.0</td>\n",
       "      <td>0.0</td>\n",
       "      <td>0.0</td>\n",
       "      <td>0.0</td>\n",
       "      <td>0.0</td>\n",
       "      <td>1.0</td>\n",
       "    </tr>\n",
       "    <tr>\n",
       "      <th>3</th>\n",
       "      <td>Chexpert/valid/patient64543/study1/view1_front...</td>\n",
       "      <td>Male</td>\n",
       "      <td>85</td>\n",
       "      <td>Frontal</td>\n",
       "      <td>AP</td>\n",
       "      <td>0.0</td>\n",
       "      <td>1.0</td>\n",
       "      <td>0.0</td>\n",
       "      <td>1.0</td>\n",
       "      <td>0.0</td>\n",
       "      <td>1.0</td>\n",
       "      <td>0.0</td>\n",
       "      <td>0.0</td>\n",
       "      <td>0.0</td>\n",
       "      <td>0.0</td>\n",
       "      <td>0.0</td>\n",
       "      <td>0.0</td>\n",
       "      <td>0.0</td>\n",
       "      <td>0.0</td>\n",
       "    </tr>\n",
       "    <tr>\n",
       "      <th>4</th>\n",
       "      <td>Chexpert/valid/patient64544/study1/view1_front...</td>\n",
       "      <td>Female</td>\n",
       "      <td>42</td>\n",
       "      <td>Frontal</td>\n",
       "      <td>AP</td>\n",
       "      <td>1.0</td>\n",
       "      <td>0.0</td>\n",
       "      <td>0.0</td>\n",
       "      <td>0.0</td>\n",
       "      <td>0.0</td>\n",
       "      <td>0.0</td>\n",
       "      <td>0.0</td>\n",
       "      <td>0.0</td>\n",
       "      <td>0.0</td>\n",
       "      <td>0.0</td>\n",
       "      <td>0.0</td>\n",
       "      <td>0.0</td>\n",
       "      <td>0.0</td>\n",
       "      <td>0.0</td>\n",
       "    </tr>\n",
       "    <tr>\n",
       "      <th>5</th>\n",
       "      <td>Chexpert/valid/patient64545/study1/view1_front...</td>\n",
       "      <td>Female</td>\n",
       "      <td>55</td>\n",
       "      <td>Frontal</td>\n",
       "      <td>AP</td>\n",
       "      <td>0.0</td>\n",
       "      <td>1.0</td>\n",
       "      <td>0.0</td>\n",
       "      <td>1.0</td>\n",
       "      <td>0.0</td>\n",
       "      <td>0.0</td>\n",
       "      <td>0.0</td>\n",
       "      <td>0.0</td>\n",
       "      <td>1.0</td>\n",
       "      <td>0.0</td>\n",
       "      <td>1.0</td>\n",
       "      <td>0.0</td>\n",
       "      <td>0.0</td>\n",
       "      <td>0.0</td>\n",
       "    </tr>\n",
       "  </tbody>\n",
       "</table>\n",
       "</div>"
      ],
      "text/plain": [
       "                                                Path     Sex  Age  \\\n",
       "0  Chexpert/valid/patient64541/study1/view1_front...    Male   73   \n",
       "1  Chexpert/valid/patient64542/study1/view1_front...    Male   70   \n",
       "3  Chexpert/valid/patient64543/study1/view1_front...    Male   85   \n",
       "4  Chexpert/valid/patient64544/study1/view1_front...  Female   42   \n",
       "5  Chexpert/valid/patient64545/study1/view1_front...  Female   55   \n",
       "\n",
       "  Frontal/Lateral AP/PA  No Finding  Enlarged Cardiomediastinum  Cardiomegaly  \\\n",
       "0         Frontal    AP         0.0                         1.0           1.0   \n",
       "1         Frontal    PA         0.0                         0.0           0.0   \n",
       "3         Frontal    AP         0.0                         1.0           0.0   \n",
       "4         Frontal    AP         1.0                         0.0           0.0   \n",
       "5         Frontal    AP         0.0                         1.0           0.0   \n",
       "\n",
       "   Lung Opacity  Lung Lesion  Edema  Consolidation  Pneumonia  Atelectasis  \\\n",
       "0           1.0          0.0    0.0            0.0        0.0          0.0   \n",
       "1           0.0          0.0    0.0            0.0        0.0          0.0   \n",
       "3           1.0          0.0    1.0            0.0        0.0          0.0   \n",
       "4           0.0          0.0    0.0            0.0        0.0          0.0   \n",
       "5           1.0          0.0    0.0            0.0        0.0          1.0   \n",
       "\n",
       "   Pneumothorax  Pleural Effusion  Pleural Other  Fracture  Support Devices  \n",
       "0           0.0               0.0            0.0       0.0              0.0  \n",
       "1           0.0               0.0            0.0       0.0              1.0  \n",
       "3           0.0               0.0            0.0       0.0              0.0  \n",
       "4           0.0               0.0            0.0       0.0              0.0  \n",
       "5           0.0               1.0            0.0       0.0              0.0  "
      ]
     },
     "execution_count": 9,
     "metadata": {},
     "output_type": "execute_result"
    }
   ],
   "source": [
    "dataframe_test = pd.read_csv(\"Chexpert/valid.csv\") #reading in the test dataframe from the csv test file \n",
    "\n",
    "dataframe_test = dataframe_test[dataframe_test[\"Frontal/Lateral\"] != \"Lateral\"] #filtering out the lateral radiographs\n",
    "\n",
    "dataframe_test.head()"
   ]
  },
  {
   "cell_type": "code",
   "execution_count": 10,
   "id": "fe1c78c7",
   "metadata": {},
   "outputs": [
    {
     "data": {
      "text/plain": [
       "(202, 19)"
      ]
     },
     "execution_count": 10,
     "metadata": {},
     "output_type": "execute_result"
    }
   ],
   "source": [
    "dataframe_test.shape #dimensions of the test dataframe:"
   ]
  },
  {
   "cell_type": "markdown",
   "id": "bd306d59",
   "metadata": {},
   "source": [
    "<b>CREATE TRAIN & VALIDATION DATASET</b></br>\n",
    "Creating a tf dataset"
   ]
  },
  {
   "cell_type": "code",
   "execution_count": 11,
   "id": "c506a40e",
   "metadata": {},
   "outputs": [],
   "source": [
    "dataset = create_dataset(dataframe) #creating tf dataset out of the pandas dataframe"
   ]
  },
  {
   "cell_type": "markdown",
   "id": "baea35c5",
   "metadata": {},
   "source": [
    "<b>SPLIT TRAIN & VALIDATION DATASET</b></br>\n",
    "Splitting the dataset into training and validation"
   ]
  },
  {
   "cell_type": "code",
   "execution_count": 12,
   "id": "771bc283",
   "metadata": {},
   "outputs": [
    {
     "name": "stdout",
     "output_type": "stream",
     "text": [
      "Images in training dataset before augmentation: 19103\n",
      "Images in training dataset after augmentation: 38206\n"
     ]
    }
   ],
   "source": [
    "train_ds = dataset.take(int(TRAIN_VALIDATION_SPLIT*len(dataset))) #taking the training part of the dataset\n",
    "valid_ds = dataset.skip(int(TRAIN_VALIDATION_SPLIT*len(dataset))) #taking the validation part of the dataset\n",
    "\n",
    "train_ds = preprocess_dataset(train_ds, True) #preprocessing with augmentation\n",
    "valid_ds = preprocess_dataset(valid_ds, False) #preprocessing without augmentation"
   ]
  },
  {
   "cell_type": "markdown",
   "id": "5edd092b",
   "metadata": {},
   "source": [
    "<b>CREATE TEST DATASET</b></br>\n",
    "Creating the test dataset"
   ]
  },
  {
   "cell_type": "code",
   "execution_count": 13,
   "id": "873623fd",
   "metadata": {},
   "outputs": [],
   "source": [
    "test_ds = create_dataset(dataframe_test) #creating the test dataset\n",
    "test_ds = preprocess_dataset(test_ds, False) #preprocessing without augmentation"
   ]
  },
  {
   "cell_type": "markdown",
   "id": "8735f7a8",
   "metadata": {},
   "source": [
    "<b>MODEL</b></br>Creating CNN structure for image classification"
   ]
  },
  {
   "cell_type": "code",
   "execution_count": 14,
   "id": "9f2f85e4",
   "metadata": {
    "tags": []
   },
   "outputs": [
    {
     "name": "stdout",
     "output_type": "stream",
     "text": [
      "INFO:tensorflow:Using MirroredStrategy with devices ('/job:localhost/replica:0/task:0/device:GPU:0', '/job:localhost/replica:0/task:0/device:GPU:1', '/job:localhost/replica:0/task:0/device:GPU:2', '/job:localhost/replica:0/task:0/device:GPU:3')\n",
      "INFO:tensorflow:Reduce to /job:localhost/replica:0/task:0/device:CPU:0 then broadcast to ('/job:localhost/replica:0/task:0/device:CPU:0',).\n",
      "INFO:tensorflow:Reduce to /job:localhost/replica:0/task:0/device:CPU:0 then broadcast to ('/job:localhost/replica:0/task:0/device:CPU:0',).\n",
      "INFO:tensorflow:Reduce to /job:localhost/replica:0/task:0/device:CPU:0 then broadcast to ('/job:localhost/replica:0/task:0/device:CPU:0',).\n",
      "INFO:tensorflow:Reduce to /job:localhost/replica:0/task:0/device:CPU:0 then broadcast to ('/job:localhost/replica:0/task:0/device:CPU:0',).\n",
      "INFO:tensorflow:Reduce to /job:localhost/replica:0/task:0/device:CPU:0 then broadcast to ('/job:localhost/replica:0/task:0/device:CPU:0',).\n",
      "INFO:tensorflow:Reduce to /job:localhost/replica:0/task:0/device:CPU:0 then broadcast to ('/job:localhost/replica:0/task:0/device:CPU:0',).\n",
      "INFO:tensorflow:Reduce to /job:localhost/replica:0/task:0/device:CPU:0 then broadcast to ('/job:localhost/replica:0/task:0/device:CPU:0',).\n",
      "INFO:tensorflow:Reduce to /job:localhost/replica:0/task:0/device:CPU:0 then broadcast to ('/job:localhost/replica:0/task:0/device:CPU:0',).\n",
      "INFO:tensorflow:Reduce to /job:localhost/replica:0/task:0/device:CPU:0 then broadcast to ('/job:localhost/replica:0/task:0/device:CPU:0',).\n",
      "INFO:tensorflow:Reduce to /job:localhost/replica:0/task:0/device:CPU:0 then broadcast to ('/job:localhost/replica:0/task:0/device:CPU:0',).\n",
      "Model: \"model\"\n",
      "_________________________________________________________________\n",
      " Layer (type)                Output Shape              Param #   \n",
      "=================================================================\n",
      " input_2 (InputLayer)        [(None, 320, 320, 3)]     0         \n",
      "                                                                 \n",
      " densenet121 (Functional)    (None, 10, 10, 1024)      7037504   \n",
      "                                                                 \n",
      " conv2d (Conv2D)             (None, 8, 8, 64)          589888    \n",
      "                                                                 \n",
      " global_average_pooling2d (G  (None, 64)               0         \n",
      " lobalAveragePooling2D)                                          \n",
      "                                                                 \n",
      " batch_normalization (BatchN  (None, 64)               256       \n",
      " ormalization)                                                   \n",
      "                                                                 \n",
      " dropout (Dropout)           (None, 64)                0         \n",
      "                                                                 \n",
      " dense (Dense)               (None, 5)                 325       \n",
      "                                                                 \n",
      "=================================================================\n",
      "Total params: 7,627,973\n",
      "Trainable params: 7,544,197\n",
      "Non-trainable params: 83,776\n",
      "_________________________________________________________________\n"
     ]
    }
   ],
   "source": [
    "strategy = tf.distribute.MirroredStrategy() #distributed strategy for optimal GPU  distribution\n",
    "with strategy.scope():\n",
    "\n",
    "    #creating the base model\n",
    "    base_model = DenseNet121(\n",
    "        include_top = False, #no default final classification layer\n",
    "        weights = \"imagenet\", #Transfer learning with pretrained weights\n",
    "        input_shape = (IMAGE_SIZE, IMAGE_SIZE, CHANNELS),\n",
    "        pooling = None, #no pooling \n",
    "    )\n",
    "\n",
    "    base_model.trainable = True #allow base model weight training\n",
    "\n",
    "    inputs = tf.keras.Input(shape = (IMAGE_SIZE, IMAGE_SIZE, CHANNELS)) #model input shape\n",
    "\n",
    "    #adding the different layers\n",
    "    x = base_model(inputs, training = True) #base model\n",
    "    x = tf.keras.layers.Conv2D(64, (3, 3))(x) #further convolutional layer\n",
    "    x = tf.keras.layers.GlobalAveragePooling2D()(x) #pooling layer\n",
    "    x = tf.keras.layers.BatchNormalization()(x) #batchNorm layer\n",
    "    x = tf.keras.layers.Dropout(0.4)(x) #dropout layer\n",
    "\n",
    "    #final dense layer for classification\n",
    "    outputs = tf.keras.layers.Dense(\n",
    "        len(LABELS), #number of nodes equals the number of classes\n",
    "        kernel_initializer = INITIALIZER, #initialising model weights with specific distribution\n",
    "        activation = ACTIVATION #setting activation function\n",
    "    )(x) \n",
    "\n",
    "    model = tf.keras.Model(inputs, outputs)\n",
    "\n",
    "    #compiling the model\n",
    "    model.compile(\n",
    "        loss = \"binary_crossentropy\", #model loss definition\n",
    "        optimizer = Adam(learning_rate = LEARNING_RATE), #setting optimizer to Adam with fixed learning rate\n",
    "        metrics = [BinaryAccuracy(name = \"accuracy\"), AUC(name = \"auc\", multi_label = True), Precision(name = \"precision\"), Recall(name = \"recall\")] #selecting predifined metrics\n",
    "    )\n",
    "\n",
    "    model.summary(expand_nested = False) #printing model summary"
   ]
  },
  {
   "cell_type": "markdown",
   "id": "80448e3d",
   "metadata": {},
   "source": [
    "<b>TRAINING</b></br>\n",
    "Defining FL client and training the model"
   ]
  },
  {
   "cell_type": "code",
   "execution_count": 15,
   "id": "98654585",
   "metadata": {},
   "outputs": [
    {
     "name": "stderr",
     "output_type": "stream",
     "text": [
      "INFO flower 2022-05-04 08:46:25,947 | connection.py:102 | Opened insecure gRPC connection (no certificates were passed)\n",
      "DEBUG flower 2022-05-04 08:46:25,948 | connection.py:39 | ChannelConnectivity.IDLE\n",
      "DEBUG flower 2022-05-04 08:46:25,949 | connection.py:39 | ChannelConnectivity.CONNECTING\n",
      "DEBUG flower 2022-05-04 08:46:25,950 | connection.py:39 | ChannelConnectivity.READY\n"
     ]
    },
    {
     "name": "stdout",
     "output_type": "stream",
     "text": [
      "INFO:tensorflow:batch_all_reduce: 368 all-reduces with algorithm = nccl, num_packs = 1\n",
      "INFO:tensorflow:batch_all_reduce: 368 all-reduces with algorithm = nccl, num_packs = 1\n",
      "2388/2388 [==============================] - 1589s 606ms/step - loss: 0.6603 - accuracy: 0.6536 - auc: 0.5981 - precision: 0.3378 - recall: 0.5076 - val_loss: 0.4767 - val_accuracy: 0.7817 - val_auc: 0.7061 - val_precision: 0.5594 - val_recall: 0.3758\n",
      "2388/2388 [==============================] - 488s 204ms/step - loss: 0.4810 - accuracy: 0.7935 - auc: 0.6997 - precision: 0.6666 - recall: 0.2265\n",
      "2388/2388 [==============================] - 1351s 565ms/step - loss: 0.5145 - accuracy: 0.7580 - auc: 0.6350 - precision: 0.4747 - recall: 0.3699 - val_loss: 0.4493 - val_accuracy: 0.7880 - val_auc: 0.7156 - val_precision: 0.6146 - val_recall: 0.2849\n",
      "2388/2388 [==============================] - 482s 202ms/step - loss: 0.4360 - accuracy: 0.7978 - auc: 0.7342 - precision: 0.7085 - recall: 0.2232\n",
      "2388/2388 [==============================] - 1346s 564ms/step - loss: 0.4791 - accuracy: 0.7795 - auc: 0.6620 - precision: 0.5427 - recall: 0.3370 - val_loss: 0.4477 - val_accuracy: 0.7896 - val_auc: 0.7219 - val_precision: 0.6326 - val_recall: 0.2699\n",
      "2388/2388 [==============================] - 480s 201ms/step - loss: 0.4197 - accuracy: 0.8056 - auc: 0.7473 - precision: 0.6745 - recall: 0.3193\n"
     ]
    },
    {
     "name": "stderr",
     "output_type": "stream",
     "text": [
      "DEBUG flower 2022-05-04 10:26:07,189 | connection.py:121 | gRPC channel closed\n",
      "INFO flower 2022-05-04 10:26:07,191 | app.py:101 | Disconnect and shut down\n"
     ]
    }
   ],
   "source": [
    "class Client(fl.client.NumPyClient): #defining FL client\n",
    "    def get_parameters(self):\n",
    "        return model.get_weights()\n",
    "\n",
    "    def fit(self, parameters, config):\n",
    "        model.set_weights(parameters)\n",
    "        history = model.fit(train_ds, epochs = EPOCHS, validation_data = valid_ds)\n",
    "        return model.get_weights(), len(train_ds), {}\n",
    "\n",
    "    def evaluate(self, parameters, config):\n",
    "        model.set_weights(parameters)\n",
    "        loss, accuracy, auc, precision, recall = model.evaluate(train_ds)\n",
    "        return loss, len(train_ds), {}\n",
    "\n",
    "    \n",
    "fl.client.start_numpy_client(\"localhost:8080\", client = Client()) #start training"
   ]
  },
  {
   "cell_type": "markdown",
   "id": "b88ef175",
   "metadata": {},
   "source": [
    "<b>MODEL EVALUATION ON TEST DATASET</b>"
   ]
  },
  {
   "cell_type": "code",
   "execution_count": 16,
   "id": "7fa0b6ad",
   "metadata": {},
   "outputs": [
    {
     "name": "stdout",
     "output_type": "stream",
     "text": [
      "13/13 [==============================] - 6s 453ms/step - loss: 0.5158 - accuracy: 0.7525 - auc: 0.8173 - precision: 0.6495 - recall: 0.2258\n"
     ]
    },
    {
     "data": {
      "text/plain": [
       "[0.5157960653305054,\n",
       " 0.7524752616882324,\n",
       " 0.8173468708992004,\n",
       " 0.6494845151901245,\n",
       " 0.22580644488334656]"
      ]
     },
     "execution_count": 16,
     "metadata": {},
     "output_type": "execute_result"
    }
   ],
   "source": [
    "model.evaluate(test_ds) #evaluating model performance on the test dataset"
   ]
  },
  {
   "cell_type": "markdown",
   "id": "fb68e45b",
   "metadata": {},
   "source": [
    "<b>MODEL PREDICTIONS</b></br>\n",
    "Generating model predictions"
   ]
  },
  {
   "cell_type": "code",
   "execution_count": 17,
   "id": "42d5f4ee",
   "metadata": {},
   "outputs": [],
   "source": [
    "pred_train = model.predict(train_ds)\n",
    "pred_valid = model.predict(valid_ds)\n",
    "pred_test = model.predict(test_ds)"
   ]
  },
  {
   "cell_type": "markdown",
   "id": "8f812772",
   "metadata": {},
   "source": [
    "<b>PLOT ROC CURVES</b></br>\n",
    "Plotting roc curves for training, validation and test datasets"
   ]
  },
  {
   "cell_type": "code",
   "execution_count": 18,
   "id": "7885f4de",
   "metadata": {},
   "outputs": [
    {
     "name": "stdout",
     "output_type": "stream",
     "text": [
      "Average AUC (training): 0.7475425613488925\n",
      "Average AUC (validation): 0.74669195622416\n",
      "Average AUC (test): 0.8187948895549008\n"
     ]
    },
    {
     "data": {
      "image/png": "[encoded data removed]",
      "text/plain": [
       "<Figure size 936x720 with 3 Axes>"
      ]
     },
     "metadata": {
      "needs_background": "light"
     },
     "output_type": "display_data"
    }
   ],
   "source": [
    "plot_roc_curves()"
   ]
  },
  {
   "cell_type": "code",
   "execution_count": null,
   "id": "c1e49011-2fac-41d7-8b96-901daab14288",
   "metadata": {},
   "outputs": [],
   "source": []
  },
  {
   "cell_type": "code",
   "execution_count": null,
   "id": "2b371a11-721b-4928-b9ee-747447e46173",
   "metadata": {},
   "outputs": [],
   "source": []
  },
  {
   "cell_type": "code",
   "execution_count": null,
   "id": "3faea4f6-21c3-4423-a14f-7fe1d55c273d",
   "metadata": {},
   "outputs": [],
   "source": []
  },
  {
   "cell_type": "code",
   "execution_count": null,
   "id": "1a079d70-503e-4f02-8391-02aea2601918",
   "metadata": {},
   "outputs": [],
   "source": []
  },
  {
   "cell_type": "code",
   "execution_count": null,
   "id": "e769b551-3ad8-4f3e-acec-ef4960865f35",
   "metadata": {},
   "outputs": [],
   "source": []
  }
 ],
 "metadata": {
  "kernelspec": {
   "display_name": "Python 3 (ipykernel)",
   "language": "python",
   "name": "python3"
  },
  "language_info": {
   "codemirror_mode": {
    "name": "ipython",
    "version": 3
   },
   "file_extension": ".py",
   "mimetype": "text/x-python",
   "name": "python",
   "nbconvert_exporter": "python",
   "pygments_lexer": "ipython3",
   "version": "3.9.9"
  }
 },
 "nbformat": 4,
 "nbformat_minor": 5
}
