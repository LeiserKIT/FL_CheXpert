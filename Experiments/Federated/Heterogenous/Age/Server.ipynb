{
 "cells": [
  {
   "cell_type": "markdown",
   "id": "777f7f07-f56c-4614-b2c2-9ed2906a163c",
   "metadata": {
    "tags": []
   },
   "source": [
    "<b>IMPORTE</b></br>Importing the Flower framework"
   ]
  },
  {
   "cell_type": "code",
   "execution_count": 1,
   "id": "2b5fa5a9-4b18-49ec-a8d6-053ffa37007d",
   "metadata": {},
   "outputs": [],
   "source": [
    "import flwr as fl"
   ]
  },
  {
   "cell_type": "markdown",
   "id": "40426527-c5f3-40a5-b78e-ece034888174",
   "metadata": {},
   "source": [
    "<b>SETTING FL STRATEGY</b></br>Defining FedAvg as algorithm of choice and required client numbers for training and evaluation"
   ]
  },
  {
   "cell_type": "code",
   "execution_count": 2,
   "id": "714ae3ea-3b8e-4cb7-8616-883f55c26aac",
   "metadata": {},
   "outputs": [],
   "source": [
    "strategy = fl.server.strategy.FedAvg(\n",
    "    min_available_clients = 5,\n",
    "    min_fit_clients = 5,\n",
    "    min_eval_clients = 5\n",
    ")"
   ]
  },
  {
   "cell_type": "markdown",
   "id": "a5c3d5b8-4a25-4c31-8cca-ae7663064429",
   "metadata": {},
   "source": [
    "<b>STARTNG FL SERVER</b></br>Starting server and setting number of rounds to perform"
   ]
  },
  {
   "cell_type": "code",
   "execution_count": 3,
   "id": "898ea214",
   "metadata": {},
   "outputs": [
    {
     "name": "stderr",
     "output_type": "stream",
     "text": [
      "INFO flower 2022-05-04 20:12:18,770 | app.py:109 | Flower server running (3 rounds)\n",
      "SSL is disabled\n",
      "INFO flower 2022-05-04 20:12:18,771 | server.py:128 | Initializing global parameters\n",
      "INFO flower 2022-05-04 20:12:18,772 | server.py:327 | Requesting initial parameters from one random client\n",
      "INFO flower 2022-05-04 20:12:47,886 | server.py:330 | Received initial parameters from one random client\n",
      "INFO flower 2022-05-04 20:12:47,886 | server.py:130 | Evaluating initial parameters\n",
      "INFO flower 2022-05-04 20:12:47,887 | server.py:143 | FL starting\n",
      "DEBUG flower 2022-05-04 20:13:19,892 | server.py:265 | fit_round: strategy sampled 5 clients (out of 5)\n",
      "DEBUG flower 2022-05-04 20:39:58,369 | server.py:277 | fit_round received 5 results and 0 failures\n",
      "DEBUG flower 2022-05-04 20:39:59,397 | server.py:211 | evaluate_round: strategy sampled 5 clients (out of 5)\n",
      "DEBUG flower 2022-05-04 20:48:43,627 | server.py:223 | evaluate_round received 5 results and 0 failures\n",
      "DEBUG flower 2022-05-04 20:48:43,628 | server.py:265 | fit_round: strategy sampled 5 clients (out of 5)\n",
      "DEBUG flower 2022-05-04 21:11:09,258 | server.py:277 | fit_round received 5 results and 0 failures\n",
      "DEBUG flower 2022-05-04 21:11:09,828 | server.py:211 | evaluate_round: strategy sampled 5 clients (out of 5)\n",
      "DEBUG flower 2022-05-04 21:19:51,094 | server.py:223 | evaluate_round received 5 results and 0 failures\n",
      "DEBUG flower 2022-05-04 21:19:51,095 | server.py:265 | fit_round: strategy sampled 5 clients (out of 5)\n",
      "DEBUG flower 2022-05-04 21:41:53,712 | server.py:277 | fit_round received 5 results and 0 failures\n",
      "DEBUG flower 2022-05-04 21:41:54,261 | server.py:211 | evaluate_round: strategy sampled 5 clients (out of 5)\n",
      "DEBUG flower 2022-05-04 21:50:34,741 | server.py:223 | evaluate_round received 5 results and 0 failures\n",
      "INFO flower 2022-05-04 21:50:34,742 | server.py:182 | FL finished in 5866.855487299152\n",
      "INFO flower 2022-05-04 21:50:34,744 | app.py:149 | app_fit: losses_distributed [(1, 0.45454302430152893), (2, 0.42984539270401), (3, 0.41827070713043213)]\n",
      "INFO flower 2022-05-04 21:50:34,745 | app.py:150 | app_fit: metrics_distributed {}\n",
      "INFO flower 2022-05-04 21:50:34,745 | app.py:151 | app_fit: losses_centralized []\n",
      "INFO flower 2022-05-04 21:50:34,745 | app.py:152 | app_fit: metrics_centralized {}\n"
     ]
    },
    {
     "data": {
      "text/plain": [
       "History (loss, distributed):\n",
       "\tround 1: 0.45454302430152893\n",
       "\tround 2: 0.42984539270401\n",
       "\tround 3: 0.41827070713043213"
      ]
     },
     "execution_count": 3,
     "metadata": {},
     "output_type": "execute_result"
    }
   ],
   "source": [
    "fl.server.start_server(\n",
    "    \"localhost:8080\",\n",
    "    config={\"num_rounds\": 3},\n",
    "    strategy = strategy\n",
    ")"
   ]
  }
 ],
 "metadata": {
  "kernelspec": {
   "display_name": "Python flwr",
   "language": "python",
   "name": "flwrenv"
  },
  "language_info": {
   "codemirror_mode": {
    "name": "ipython",
    "version": 3
   },
   "file_extension": ".py",
   "mimetype": "text/x-python",
   "name": "python",
   "nbconvert_exporter": "python",
   "pygments_lexer": "ipython3",
   "version": "3.8.6"
  }
 },
 "nbformat": 4,
 "nbformat_minor": 5
}
