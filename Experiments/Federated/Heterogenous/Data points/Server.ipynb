{
 "cells": [
  {
   "cell_type": "markdown",
   "id": "777f7f07-f56c-4614-b2c2-9ed2906a163c",
   "metadata": {
    "tags": []
   },
   "source": [
    "<b>IMPORTE</b></br>Importing the Flower framework"
   ]
  },
  {
   "cell_type": "code",
   "execution_count": 1,
   "id": "2b5fa5a9-4b18-49ec-a8d6-053ffa37007d",
   "metadata": {},
   "outputs": [],
   "source": [
    "import flwr as fl"
   ]
  },
  {
   "cell_type": "markdown",
   "id": "40426527-c5f3-40a5-b78e-ece034888174",
   "metadata": {},
   "source": [
    "<b>SETTING FL STRATEGY</b></br>Defining FedAvg as algorithm of choice and required client numbers for training and evaluation"
   ]
  },
  {
   "cell_type": "code",
   "execution_count": 2,
   "id": "714ae3ea-3b8e-4cb7-8616-883f55c26aac",
   "metadata": {},
   "outputs": [],
   "source": [
    "strategy = fl.server.strategy.FedAvg(\n",
    "    min_available_clients = 5,\n",
    "    min_fit_clients = 5,\n",
    "    min_eval_clients = 5\n",
    ")"
   ]
  },
  {
   "cell_type": "markdown",
   "id": "a5c3d5b8-4a25-4c31-8cca-ae7663064429",
   "metadata": {},
   "source": [
    "<b>STARTNG FL SERVER</b></br>Starting server and setting number of rounds to perform"
   ]
  },
  {
   "cell_type": "code",
   "execution_count": 3,
   "id": "898ea214",
   "metadata": {},
   "outputs": [
    {
     "name": "stderr",
     "output_type": "stream",
     "text": [
      "INFO flower 2022-05-04 10:47:33,913 | app.py:109 | Flower server running (3 rounds)\n",
      "SSL is disabled\n",
      "INFO flower 2022-05-04 10:47:33,914 | server.py:128 | Initializing global parameters\n",
      "INFO flower 2022-05-04 10:47:33,914 | server.py:327 | Requesting initial parameters from one random client\n",
      "INFO flower 2022-05-04 10:48:40,092 | server.py:330 | Received initial parameters from one random client\n",
      "INFO flower 2022-05-04 10:48:40,093 | server.py:130 | Evaluating initial parameters\n",
      "INFO flower 2022-05-04 10:48:40,093 | server.py:143 | FL starting\n",
      "DEBUG flower 2022-05-04 10:52:35,082 | server.py:265 | fit_round: strategy sampled 5 clients (out of 5)\n",
      "DEBUG flower 2022-05-04 11:22:58,423 | server.py:277 | fit_round received 5 results and 0 failures\n",
      "DEBUG flower 2022-05-04 11:22:59,545 | server.py:211 | evaluate_round: strategy sampled 5 clients (out of 5)\n",
      "DEBUG flower 2022-05-04 11:34:25,489 | server.py:223 | evaluate_round received 5 results and 0 failures\n",
      "DEBUG flower 2022-05-04 11:34:25,489 | server.py:265 | fit_round: strategy sampled 5 clients (out of 5)\n",
      "DEBUG flower 2022-05-04 11:59:16,818 | server.py:277 | fit_round received 5 results and 0 failures\n",
      "DEBUG flower 2022-05-04 11:59:17,389 | server.py:211 | evaluate_round: strategy sampled 5 clients (out of 5)\n",
      "DEBUG flower 2022-05-04 12:10:41,315 | server.py:223 | evaluate_round received 5 results and 0 failures\n",
      "DEBUG flower 2022-05-04 12:10:41,315 | server.py:265 | fit_round: strategy sampled 5 clients (out of 5)\n",
      "DEBUG flower 2022-05-04 12:35:26,636 | server.py:277 | fit_round received 5 results and 0 failures\n",
      "DEBUG flower 2022-05-04 12:35:27,154 | server.py:211 | evaluate_round: strategy sampled 5 clients (out of 5)\n",
      "DEBUG flower 2022-05-04 12:46:50,577 | server.py:223 | evaluate_round received 5 results and 0 failures\n",
      "INFO flower 2022-05-04 12:46:50,578 | server.py:182 | FL finished in 7090.48438490089\n",
      "INFO flower 2022-05-04 12:46:50,579 | app.py:149 | app_fit: losses_distributed [(1, 0.4315380062907934), (2, 0.41444095969200134), (3, 0.4066287912428379)]\n",
      "INFO flower 2022-05-04 12:46:50,580 | app.py:150 | app_fit: metrics_distributed {}\n",
      "INFO flower 2022-05-04 12:46:50,580 | app.py:151 | app_fit: losses_centralized []\n",
      "INFO flower 2022-05-04 12:46:50,580 | app.py:152 | app_fit: metrics_centralized {}\n"
     ]
    },
    {
     "data": {
      "text/plain": [
       "History (loss, distributed):\n",
       "\tround 1: 0.4315380062907934\n",
       "\tround 2: 0.41444095969200134\n",
       "\tround 3: 0.4066287912428379"
      ]
     },
     "execution_count": 3,
     "metadata": {},
     "output_type": "execute_result"
    }
   ],
   "source": [
    "fl.server.start_server(\n",
    "    \"localhost:8080\",\n",
    "    config={\"num_rounds\": 3},\n",
    "    strategy = strategy\n",
    ")"
   ]
  }
 ],
 "metadata": {
  "kernelspec": {
   "display_name": "Python flwr",
   "language": "python",
   "name": "flwrenv"
  },
  "language_info": {
   "codemirror_mode": {
    "name": "ipython",
    "version": 3
   },
   "file_extension": ".py",
   "mimetype": "text/x-python",
   "name": "python",
   "nbconvert_exporter": "python",
   "pygments_lexer": "ipython3",
   "version": "3.8.6"
  }
 },
 "nbformat": 4,
 "nbformat_minor": 5
}
